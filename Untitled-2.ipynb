{
 "cells": [
  {
   "cell_type": "code",
   "execution_count": 1,
   "metadata": {
    "scrolled": false
   },
   "outputs": [
    {
     "name": "stderr",
     "output_type": "stream",
     "text": [
      "Using TensorFlow backend.\n"
     ]
    },
    {
     "name": "stdout",
     "output_type": "stream",
     "text": [
      "WARNING:tensorflow:From /anaconda3/lib/python3.7/site-packages/tensorflow/python/framework/op_def_library.py:263: colocate_with (from tensorflow.python.framework.ops) is deprecated and will be removed in a future version.\n",
      "Instructions for updating:\n",
      "Colocations handled automatically by placer.\n",
      "_________________________________________________________________\n",
      "Layer (type)                 Output Shape              Param #   \n",
      "=================================================================\n",
      "flatten_1 (Flatten)          (None, 100800)            0         \n",
      "_________________________________________________________________\n",
      "dense_1 (Dense)              (None, 16)                1612816   \n",
      "_________________________________________________________________\n",
      "activation_1 (Activation)    (None, 16)                0         \n",
      "_________________________________________________________________\n",
      "dense_2 (Dense)              (None, 16)                272       \n",
      "_________________________________________________________________\n",
      "activation_2 (Activation)    (None, 16)                0         \n",
      "_________________________________________________________________\n",
      "dense_3 (Dense)              (None, 16)                272       \n",
      "_________________________________________________________________\n",
      "activation_3 (Activation)    (None, 16)                0         \n",
      "_________________________________________________________________\n",
      "dense_4 (Dense)              (None, 6)                 102       \n",
      "=================================================================\n",
      "Total params: 1,613,462\n",
      "Trainable params: 1,613,462\n",
      "Non-trainable params: 0\n",
      "_________________________________________________________________\n",
      "None\n",
      "Training for 50000 steps ...\n"
     ]
    },
    {
     "name": "stderr",
     "output_type": "stream",
     "text": [
      "/anaconda3/lib/python3.7/site-packages/rl/memory.py:39: UserWarning: Not enough entries to sample without replacement. Consider increasing your warm-up phase to avoid oversampling!\n",
      "  warnings.warn('Not enough entries to sample without replacement. Consider increasing your warm-up phase to avoid oversampling!')\n"
     ]
    },
    {
     "name": "stdout",
     "output_type": "stream",
     "text": [
      "WARNING:tensorflow:From /anaconda3/lib/python3.7/site-packages/tensorflow/python/ops/math_ops.py:3066: to_int32 (from tensorflow.python.ops.math_ops) is deprecated and will be removed in a future version.\n",
      "Instructions for updating:\n",
      "Use tf.cast instead.\n",
      "   928/50000: episode: 1, duration: 84.244s, episode steps: 928, steps per second: 11, episode reward: 150.000, mean reward: 0.162 [0.000, 30.000], mean action: 2.610 [0.000, 5.000], mean observation: 9.880 [0.000, 181.000], loss: 0.604495, mean_absolute_error: 19.030613, mean_q: 22.943710\n",
      "  1526/50000: episode: 2, duration: 50.948s, episode steps: 598, steps per second: 12, episode reward: 105.000, mean reward: 0.176 [0.000, 30.000], mean action: 2.589 [0.000, 5.000], mean observation: 10.427 [0.000, 181.000], loss: 1.668927, mean_absolute_error: 19.105341, mean_q: 23.046541\n",
      "  2241/50000: episode: 3, duration: 64.203s, episode steps: 715, steps per second: 11, episode reward: 210.000, mean reward: 0.294 [0.000, 30.000], mean action: 2.674 [0.000, 5.000], mean observation: 9.862 [0.000, 181.000], loss: 2.359293, mean_absolute_error: 19.705481, mean_q: 23.864161\n",
      "  2735/50000: episode: 4, duration: 41.007s, episode steps: 494, steps per second: 12, episode reward: 125.000, mean reward: 0.253 [0.000, 25.000], mean action: 2.538 [0.000, 5.000], mean observation: 10.226 [0.000, 181.000], loss: 2.344449, mean_absolute_error: 20.266413, mean_q: 24.390425\n",
      "  3128/50000: episode: 5, duration: 32.811s, episode steps: 393, steps per second: 12, episode reward: 30.000, mean reward: 0.076 [0.000, 10.000], mean action: 2.573 [0.000, 5.000], mean observation: 10.495 [0.000, 181.000], loss: 2.372232, mean_absolute_error: 20.245104, mean_q: 24.345747\n",
      "  3995/50000: episode: 6, duration: 72.669s, episode steps: 867, steps per second: 12, episode reward: 125.000, mean reward: 0.144 [0.000, 20.000], mean action: 2.571 [0.000, 5.000], mean observation: 9.998 [0.000, 181.000], loss: 1.988597, mean_absolute_error: 20.460897, mean_q: 24.672134\n",
      "  4382/50000: episode: 7, duration: 32.493s, episode steps: 387, steps per second: 12, episode reward: 60.000, mean reward: 0.155 [0.000, 15.000], mean action: 2.537 [0.000, 5.000], mean observation: 10.446 [0.000, 181.000], loss: 2.218073, mean_absolute_error: 20.596111, mean_q: 24.784021\n",
      "  5184/50000: episode: 8, duration: 67.771s, episode steps: 802, steps per second: 12, episode reward: 220.000, mean reward: 0.274 [0.000, 30.000], mean action: 2.465 [0.000, 5.000], mean observation: 9.783 [0.000, 181.000], loss: 2.323019, mean_absolute_error: 20.714781, mean_q: 24.941277\n",
      "  5758/50000: episode: 9, duration: 49.918s, episode steps: 574, steps per second: 11, episode reward: 70.000, mean reward: 0.122 [0.000, 30.000], mean action: 2.507 [0.000, 5.000], mean observation: 10.288 [0.000, 181.000], loss: 2.126259, mean_absolute_error: 20.683723, mean_q: 24.879374\n",
      "  6470/50000: episode: 10, duration: 58.393s, episode steps: 712, steps per second: 12, episode reward: 135.000, mean reward: 0.190 [0.000, 30.000], mean action: 2.466 [0.000, 5.000], mean observation: 9.926 [0.000, 181.000], loss: 2.055658, mean_absolute_error: 20.557589, mean_q: 24.721155\n",
      "  7252/50000: episode: 11, duration: 71.550s, episode steps: 782, steps per second: 11, episode reward: 180.000, mean reward: 0.230 [0.000, 30.000], mean action: 2.480 [0.000, 5.000], mean observation: 9.694 [0.000, 181.000], loss: 2.102656, mean_absolute_error: 20.406574, mean_q: 24.569353\n",
      "  7815/50000: episode: 12, duration: 48.343s, episode steps: 563, steps per second: 12, episode reward: 100.000, mean reward: 0.178 [0.000, 20.000], mean action: 2.409 [0.000, 5.000], mean observation: 10.234 [0.000, 181.000], loss: 2.078998, mean_absolute_error: 20.350456, mean_q: 24.459032\n",
      "  8355/50000: episode: 13, duration: 44.585s, episode steps: 540, steps per second: 12, episode reward: 90.000, mean reward: 0.167 [0.000, 25.000], mean action: 2.504 [0.000, 5.000], mean observation: 10.360 [0.000, 181.000], loss: 2.081733, mean_absolute_error: 20.119984, mean_q: 24.187063\n",
      "  9128/50000: episode: 14, duration: 64.476s, episode steps: 773, steps per second: 12, episode reward: 140.000, mean reward: 0.181 [0.000, 30.000], mean action: 2.481 [0.000, 5.000], mean observation: 10.093 [0.000, 181.000], loss: 1.966641, mean_absolute_error: 20.029287, mean_q: 24.092169\n",
      "  9514/50000: episode: 15, duration: 35.988s, episode steps: 386, steps per second: 11, episode reward: 65.000, mean reward: 0.168 [0.000, 20.000], mean action: 2.575 [0.000, 5.000], mean observation: 10.397 [0.000, 181.000], loss: 2.093198, mean_absolute_error: 19.987980, mean_q: 24.040279\n",
      " 10304/50000: episode: 16, duration: 68.780s, episode steps: 790, steps per second: 11, episode reward: 220.000, mean reward: 0.278 [0.000, 30.000], mean action: 2.444 [0.000, 5.000], mean observation: 9.896 [0.000, 181.000], loss: 2.190623, mean_absolute_error: 19.925438, mean_q: 24.002645\n",
      " 10980/50000: episode: 17, duration: 55.478s, episode steps: 676, steps per second: 12, episode reward: 120.000, mean reward: 0.178 [0.000, 30.000], mean action: 2.571 [0.000, 5.000], mean observation: 10.059 [0.000, 181.000], loss: 2.407605, mean_absolute_error: 19.947205, mean_q: 24.002600\n",
      " 11867/50000: episode: 18, duration: 71.503s, episode steps: 887, steps per second: 12, episode reward: 270.000, mean reward: 0.304 [0.000, 30.000], mean action: 2.485 [0.000, 5.000], mean observation: 9.416 [0.000, 181.000], loss: 2.365864, mean_absolute_error: 20.057981, mean_q: 24.135851\n",
      " 12568/50000: episode: 19, duration: 59.387s, episode steps: 701, steps per second: 12, episode reward: 110.000, mean reward: 0.157 [0.000, 30.000], mean action: 2.438 [0.000, 5.000], mean observation: 10.124 [0.000, 181.000], loss: 1.962175, mean_absolute_error: 20.129707, mean_q: 24.203308\n",
      " 13357/50000: episode: 20, duration: 70.228s, episode steps: 789, steps per second: 11, episode reward: 205.000, mean reward: 0.260 [0.000, 30.000], mean action: 2.545 [0.000, 5.000], mean observation: 9.734 [0.000, 181.000], loss: 2.485087, mean_absolute_error: 19.902813, mean_q: 23.914211\n",
      " 14111/50000: episode: 21, duration: 68.409s, episode steps: 754, steps per second: 11, episode reward: 135.000, mean reward: 0.179 [0.000, 30.000], mean action: 2.444 [0.000, 5.000], mean observation: 10.172 [0.000, 181.000], loss: 2.330562, mean_absolute_error: 19.731586, mean_q: 23.720585\n",
      " 14745/50000: episode: 22, duration: 52.410s, episode steps: 634, steps per second: 12, episode reward: 115.000, mean reward: 0.181 [0.000, 25.000], mean action: 2.465 [0.000, 5.000], mean observation: 9.924 [0.000, 181.000], loss: 2.523183, mean_absolute_error: 19.676558, mean_q: 23.650066\n",
      " 15727/50000: episode: 23, duration: 80.020s, episode steps: 982, steps per second: 12, episode reward: 295.000, mean reward: 0.300 [0.000, 30.000], mean action: 2.455 [0.000, 5.000], mean observation: 9.440 [0.000, 181.000], loss: 2.389218, mean_absolute_error: 19.726559, mean_q: 23.721066\n",
      " 16287/50000: episode: 24, duration: 46.520s, episode steps: 560, steps per second: 12, episode reward: 90.000, mean reward: 0.161 [0.000, 25.000], mean action: 2.607 [0.000, 5.000], mean observation: 10.213 [0.000, 181.000], loss: 2.299677, mean_absolute_error: 19.672935, mean_q: 23.627985\n",
      " 17082/50000: episode: 25, duration: 66.776s, episode steps: 795, steps per second: 12, episode reward: 225.000, mean reward: 0.283 [0.000, 30.000], mean action: 2.526 [0.000, 5.000], mean observation: 9.866 [0.000, 181.000], loss: 2.486051, mean_absolute_error: 19.524775, mean_q: 23.442787\n",
      " 18132/50000: episode: 26, duration: 86.479s, episode steps: 1050, steps per second: 12, episode reward: 475.000, mean reward: 0.452 [0.000, 200.000], mean action: 2.480 [0.000, 5.000], mean observation: 9.029 [0.000, 181.000], loss: 2.375455, mean_absolute_error: 19.428843, mean_q: 23.342899\n",
      " 18779/50000: episode: 27, duration: 54.742s, episode steps: 647, steps per second: 12, episode reward: 180.000, mean reward: 0.278 [0.000, 30.000], mean action: 2.462 [0.000, 5.000], mean observation: 10.011 [0.000, 181.000], loss: 2.476706, mean_absolute_error: 19.401148, mean_q: 23.285616\n",
      " 19184/50000: episode: 28, duration: 36.186s, episode steps: 405, steps per second: 11, episode reward: 50.000, mean reward: 0.123 [0.000, 20.000], mean action: 2.462 [0.000, 5.000], mean observation: 10.591 [0.000, 181.000], loss: 2.635603, mean_absolute_error: 19.447842, mean_q: 23.359409\n"
     ]
    },
    {
     "name": "stdout",
     "output_type": "stream",
     "text": [
      " 19745/50000: episode: 29, duration: 56.665s, episode steps: 561, steps per second: 10, episode reward: 60.000, mean reward: 0.107 [0.000, 25.000], mean action: 2.542 [0.000, 5.000], mean observation: 10.277 [0.000, 181.000], loss: 4.709900, mean_absolute_error: 19.572119, mean_q: 23.536726\n",
      " 20138/50000: episode: 30, duration: 37.602s, episode steps: 393, steps per second: 10, episode reward: 80.000, mean reward: 0.204 [0.000, 30.000], mean action: 2.575 [0.000, 5.000], mean observation: 10.531 [0.000, 181.000], loss: 3.720822, mean_absolute_error: 19.744579, mean_q: 23.741854\n",
      " 20701/50000: episode: 31, duration: 50.633s, episode steps: 563, steps per second: 11, episode reward: 125.000, mean reward: 0.222 [0.000, 25.000], mean action: 2.501 [0.000, 5.000], mean observation: 10.131 [0.000, 181.000], loss: 4.837087, mean_absolute_error: 20.098534, mean_q: 24.212934\n",
      " 21081/50000: episode: 32, duration: 32.877s, episode steps: 380, steps per second: 12, episode reward: 50.000, mean reward: 0.132 [0.000, 20.000], mean action: 2.532 [0.000, 5.000], mean observation: 10.665 [0.000, 181.000], loss: 2.492049, mean_absolute_error: 20.174969, mean_q: 24.232231\n",
      " 21941/50000: episode: 33, duration: 70.984s, episode steps: 860, steps per second: 12, episode reward: 265.000, mean reward: 0.308 [0.000, 30.000], mean action: 2.426 [0.000, 5.000], mean observation: 9.626 [0.000, 181.000], loss: 2.371558, mean_absolute_error: 20.078279, mean_q: 24.137577\n",
      " 23032/50000: episode: 34, duration: 93.100s, episode steps: 1091, steps per second: 12, episode reward: 210.000, mean reward: 0.192 [0.000, 30.000], mean action: 2.473 [0.000, 5.000], mean observation: 9.290 [0.000, 181.000], loss: 3.045632, mean_absolute_error: 20.026903, mean_q: 24.057760\n",
      " 23802/50000: episode: 35, duration: 67.602s, episode steps: 770, steps per second: 11, episode reward: 120.000, mean reward: 0.156 [0.000, 30.000], mean action: 2.588 [0.000, 5.000], mean observation: 10.231 [0.000, 181.000], loss: 2.531405, mean_absolute_error: 19.911375, mean_q: 23.928547\n",
      " 24589/50000: episode: 36, duration: 67.118s, episode steps: 787, steps per second: 12, episode reward: 170.000, mean reward: 0.216 [0.000, 30.000], mean action: 2.535 [0.000, 5.000], mean observation: 9.773 [0.000, 181.000], loss: 3.060471, mean_absolute_error: 19.902918, mean_q: 23.915339\n",
      " 25232/50000: episode: 37, duration: 54.076s, episode steps: 643, steps per second: 12, episode reward: 160.000, mean reward: 0.249 [0.000, 30.000], mean action: 2.409 [0.000, 5.000], mean observation: 10.004 [0.000, 181.000], loss: 2.439676, mean_absolute_error: 19.909372, mean_q: 23.913116\n",
      " 26079/50000: episode: 38, duration: 71.804s, episode steps: 847, steps per second: 12, episode reward: 260.000, mean reward: 0.307 [0.000, 30.000], mean action: 2.524 [0.000, 5.000], mean observation: 9.202 [0.000, 181.000], loss: 5.303453, mean_absolute_error: 19.927954, mean_q: 23.972593\n",
      " 26830/50000: episode: 39, duration: 64.507s, episode steps: 751, steps per second: 12, episode reward: 155.000, mean reward: 0.206 [0.000, 30.000], mean action: 2.531 [0.000, 5.000], mean observation: 10.025 [0.000, 181.000], loss: 2.432777, mean_absolute_error: 20.079704, mean_q: 24.148172\n",
      " 27350/50000: episode: 40, duration: 51.615s, episode steps: 520, steps per second: 10, episode reward: 55.000, mean reward: 0.106 [0.000, 30.000], mean action: 2.467 [0.000, 5.000], mean observation: 10.647 [0.000, 181.000], loss: 2.214798, mean_absolute_error: 20.061554, mean_q: 24.087978\n",
      " 28134/50000: episode: 41, duration: 75.020s, episode steps: 784, steps per second: 10, episode reward: 185.000, mean reward: 0.236 [0.000, 30.000], mean action: 2.374 [0.000, 5.000], mean observation: 10.209 [0.000, 181.000], loss: 3.027491, mean_absolute_error: 19.908325, mean_q: 23.919249\n",
      " 28695/50000: episode: 42, duration: 53.462s, episode steps: 561, steps per second: 10, episode reward: 110.000, mean reward: 0.196 [0.000, 30.000], mean action: 2.506 [0.000, 5.000], mean observation: 10.230 [0.000, 181.000], loss: 3.669446, mean_absolute_error: 19.825205, mean_q: 23.818600\n",
      " 29457/50000: episode: 43, duration: 72.864s, episode steps: 762, steps per second: 10, episode reward: 210.000, mean reward: 0.276 [0.000, 30.000], mean action: 2.512 [0.000, 5.000], mean observation: 9.552 [0.000, 181.000], loss: 3.248256, mean_absolute_error: 19.699646, mean_q: 23.651642\n",
      " 30231/50000: episode: 44, duration: 68.306s, episode steps: 774, steps per second: 11, episode reward: 180.000, mean reward: 0.233 [0.000, 30.000], mean action: 2.468 [0.000, 5.000], mean observation: 9.920 [0.000, 181.000], loss: 2.281170, mean_absolute_error: 19.705584, mean_q: 23.691643\n",
      " 30848/50000: episode: 45, duration: 61.470s, episode steps: 617, steps per second: 10, episode reward: 90.000, mean reward: 0.146 [0.000, 25.000], mean action: 2.582 [0.000, 5.000], mean observation: 10.225 [0.000, 181.000], loss: 3.612379, mean_absolute_error: 19.747490, mean_q: 23.723749\n",
      " 31570/50000: episode: 46, duration: 65.385s, episode steps: 722, steps per second: 11, episode reward: 180.000, mean reward: 0.249 [0.000, 30.000], mean action: 2.582 [0.000, 5.000], mean observation: 10.227 [0.000, 181.000], loss: 2.330066, mean_absolute_error: 19.634287, mean_q: 23.577919\n",
      " 32127/50000: episode: 47, duration: 53.491s, episode steps: 557, steps per second: 10, episode reward: 85.000, mean reward: 0.153 [0.000, 25.000], mean action: 2.607 [0.000, 5.000], mean observation: 10.202 [0.000, 181.000], loss: 4.302366, mean_absolute_error: 19.420004, mean_q: 23.333647\n",
      " 32651/50000: episode: 48, duration: 47.669s, episode steps: 524, steps per second: 11, episode reward: 70.000, mean reward: 0.134 [0.000, 20.000], mean action: 2.536 [0.000, 5.000], mean observation: 10.355 [0.000, 181.000], loss: 3.569029, mean_absolute_error: 19.578117, mean_q: 23.545691\n",
      " 33356/50000: episode: 49, duration: 66.151s, episode steps: 705, steps per second: 11, episode reward: 135.000, mean reward: 0.191 [0.000, 30.000], mean action: 2.511 [0.000, 5.000], mean observation: 9.830 [0.000, 181.000], loss: 3.020368, mean_absolute_error: 19.575535, mean_q: 23.522377\n",
      " 34064/50000: episode: 50, duration: 68.740s, episode steps: 708, steps per second: 10, episode reward: 155.000, mean reward: 0.219 [0.000, 30.000], mean action: 2.401 [0.000, 5.000], mean observation: 10.150 [0.000, 181.000], loss: 2.439459, mean_absolute_error: 19.546906, mean_q: 23.481539\n",
      " 34728/50000: episode: 51, duration: 65.050s, episode steps: 664, steps per second: 10, episode reward: 120.000, mean reward: 0.181 [0.000, 30.000], mean action: 2.392 [0.000, 5.000], mean observation: 10.227 [0.000, 181.000], loss: 2.380474, mean_absolute_error: 19.458242, mean_q: 23.366774\n",
      " 35718/50000: episode: 52, duration: 90.535s, episode steps: 990, steps per second: 11, episode reward: 360.000, mean reward: 0.364 [0.000, 30.000], mean action: 2.561 [0.000, 5.000], mean observation: 8.818 [0.000, 181.000], loss: 3.538856, mean_absolute_error: 19.439938, mean_q: 23.371603\n",
      " 36174/50000: episode: 53, duration: 43.048s, episode steps: 456, steps per second: 11, episode reward: 50.000, mean reward: 0.110 [0.000, 20.000], mean action: 2.450 [0.000, 5.000], mean observation: 10.591 [0.000, 181.000], loss: 2.114957, mean_absolute_error: 19.343857, mean_q: 23.238043\n",
      " 36614/50000: episode: 54, duration: 39.780s, episode steps: 440, steps per second: 11, episode reward: 110.000, mean reward: 0.250 [0.000, 30.000], mean action: 2.523 [0.000, 5.000], mean observation: 10.302 [0.000, 181.000], loss: 2.631557, mean_absolute_error: 19.342535, mean_q: 23.240908\n",
      " 37280/50000: episode: 55, duration: 60.496s, episode steps: 666, steps per second: 11, episode reward: 105.000, mean reward: 0.158 [0.000, 30.000], mean action: 2.532 [0.000, 5.000], mean observation: 10.193 [0.000, 181.000], loss: 3.470029, mean_absolute_error: 19.364977, mean_q: 23.282587\n",
      " 37802/50000: episode: 56, duration: 46.880s, episode steps: 522, steps per second: 11, episode reward: 105.000, mean reward: 0.201 [0.000, 30.000], mean action: 2.582 [0.000, 5.000], mean observation: 10.485 [0.000, 181.000], loss: 2.527184, mean_absolute_error: 19.358772, mean_q: 23.248081\n",
      " 38324/50000: episode: 57, duration: 49.392s, episode steps: 522, steps per second: 11, episode reward: 75.000, mean reward: 0.144 [0.000, 25.000], mean action: 2.400 [0.000, 5.000], mean observation: 10.454 [0.000, 181.000], loss: 2.323679, mean_absolute_error: 19.357010, mean_q: 23.252800\n"
     ]
    },
    {
     "name": "stdout",
     "output_type": "stream",
     "text": [
      " 38846/50000: episode: 58, duration: 53.326s, episode steps: 522, steps per second: 10, episode reward: 155.000, mean reward: 0.297 [0.000, 30.000], mean action: 2.425 [0.000, 5.000], mean observation: 10.151 [0.000, 181.000], loss: 3.351343, mean_absolute_error: 19.306299, mean_q: 23.223066\n",
      " 39789/50000: episode: 59, duration: 89.951s, episode steps: 943, steps per second: 10, episode reward: 115.000, mean reward: 0.122 [0.000, 30.000], mean action: 2.478 [0.000, 5.000], mean observation: 9.929 [0.000, 181.000], loss: 3.219973, mean_absolute_error: 19.528711, mean_q: 23.489939\n",
      " 40318/50000: episode: 60, duration: 51.227s, episode steps: 529, steps per second: 10, episode reward: 125.000, mean reward: 0.236 [0.000, 25.000], mean action: 2.512 [0.000, 5.000], mean observation: 10.219 [0.000, 181.000], loss: 3.572593, mean_absolute_error: 19.472437, mean_q: 23.378935\n",
      " 40840/50000: episode: 61, duration: 50.910s, episode steps: 522, steps per second: 10, episode reward: 55.000, mean reward: 0.105 [0.000, 20.000], mean action: 2.693 [0.000, 5.000], mean observation: 10.461 [0.000, 181.000], loss: 3.665445, mean_absolute_error: 19.483217, mean_q: 23.398752\n",
      " 41424/50000: episode: 62, duration: 55.243s, episode steps: 584, steps per second: 11, episode reward: 35.000, mean reward: 0.060 [0.000, 20.000], mean action: 2.558 [0.000, 5.000], mean observation: 10.462 [0.000, 181.000], loss: 2.138108, mean_absolute_error: 19.334429, mean_q: 23.200638\n",
      " 42162/50000: episode: 63, duration: 69.875s, episode steps: 738, steps per second: 11, episode reward: 230.000, mean reward: 0.312 [0.000, 30.000], mean action: 2.614 [0.000, 5.000], mean observation: 10.154 [0.000, 181.000], loss: 2.564799, mean_absolute_error: 19.395119, mean_q: 23.294662\n",
      " 43000/50000: episode: 64, duration: 79.733s, episode steps: 838, steps per second: 11, episode reward: 110.000, mean reward: 0.131 [0.000, 30.000], mean action: 2.514 [0.000, 5.000], mean observation: 9.793 [0.000, 181.000], loss: 2.360533, mean_absolute_error: 19.336645, mean_q: 23.230629\n",
      " 43651/50000: episode: 65, duration: 61.010s, episode steps: 651, steps per second: 11, episode reward: 100.000, mean reward: 0.154 [0.000, 25.000], mean action: 2.435 [0.000, 5.000], mean observation: 10.069 [0.000, 181.000], loss: 3.095011, mean_absolute_error: 19.223778, mean_q: 23.113024\n",
      " 44396/50000: episode: 66, duration: 70.477s, episode steps: 745, steps per second: 11, episode reward: 180.000, mean reward: 0.242 [0.000, 30.000], mean action: 2.679 [0.000, 5.000], mean observation: 9.903 [0.000, 181.000], loss: 2.514048, mean_absolute_error: 19.195084, mean_q: 23.057560\n",
      " 45029/50000: episode: 67, duration: 59.666s, episode steps: 633, steps per second: 11, episode reward: 180.000, mean reward: 0.284 [0.000, 30.000], mean action: 2.567 [0.000, 5.000], mean observation: 10.214 [0.000, 181.000], loss: 2.126150, mean_absolute_error: 19.118458, mean_q: 22.967567\n",
      " 45653/50000: episode: 68, duration: 59.461s, episode steps: 624, steps per second: 10, episode reward: 65.000, mean reward: 0.104 [0.000, 20.000], mean action: 2.593 [0.000, 5.000], mean observation: 10.244 [0.000, 181.000], loss: 3.256981, mean_absolute_error: 19.060701, mean_q: 22.912760\n",
      " 46037/50000: episode: 69, duration: 37.283s, episode steps: 384, steps per second: 10, episode reward: 100.000, mean reward: 0.260 [0.000, 20.000], mean action: 2.372 [0.000, 5.000], mean observation: 10.348 [0.000, 181.000], loss: 2.593158, mean_absolute_error: 19.070343, mean_q: 22.902832\n",
      " 46584/50000: episode: 70, duration: 52.769s, episode steps: 547, steps per second: 10, episode reward: 55.000, mean reward: 0.101 [0.000, 20.000], mean action: 2.594 [0.000, 5.000], mean observation: 10.327 [0.000, 181.000], loss: 2.409806, mean_absolute_error: 19.105873, mean_q: 22.968616\n",
      " 47433/50000: episode: 71, duration: 81.544s, episode steps: 849, steps per second: 10, episode reward: 235.000, mean reward: 0.277 [0.000, 30.000], mean action: 2.504 [0.000, 5.000], mean observation: 9.567 [0.000, 181.000], loss: 3.926206, mean_absolute_error: 19.132832, mean_q: 23.011452\n",
      " 48215/50000: episode: 72, duration: 77.842s, episode steps: 782, steps per second: 10, episode reward: 200.000, mean reward: 0.256 [0.000, 30.000], mean action: 2.481 [0.000, 5.000], mean observation: 9.902 [0.000, 181.000], loss: 3.391334, mean_absolute_error: 19.257359, mean_q: 23.150995\n",
      " 48840/50000: episode: 73, duration: 60.444s, episode steps: 625, steps per second: 10, episode reward: 135.000, mean reward: 0.216 [0.000, 30.000], mean action: 2.374 [0.000, 5.000], mean observation: 10.028 [0.000, 181.000], loss: 2.567195, mean_absolute_error: 19.357443, mean_q: 23.227449\n",
      " 49514/50000: episode: 74, duration: 61.707s, episode steps: 674, steps per second: 11, episode reward: 125.000, mean reward: 0.185 [0.000, 30.000], mean action: 2.537 [0.000, 5.000], mean observation: 9.974 [0.000, 181.000], loss: 2.372260, mean_absolute_error: 19.309608, mean_q: 23.213308\n",
      "done, took 4544.327 seconds\n",
      "Testing for 5 episodes ...\n",
      "Episode 1: reward: 0.000, steps: 616\n",
      "Episode 2: reward: 0.000, steps: 618\n",
      "Episode 3: reward: 0.000, steps: 607\n",
      "Episode 4: reward: 0.000, steps: 620\n",
      "Episode 5: reward: 0.000, steps: 605\n"
     ]
    },
    {
     "data": {
      "text/plain": [
       "<keras.callbacks.History at 0xb32d94b70>"
      ]
     },
     "execution_count": 1,
     "metadata": {},
     "output_type": "execute_result"
    }
   ],
   "source": [
    "import numpy as np\n",
    "import gym\n",
    "import matplotlib.pyplot as plt\n",
    "\n",
    "from keras.models import Sequential\n",
    "from keras.layers import Dense, Activation, Flatten\n",
    "from keras.optimizers import Adam\n",
    "\n",
    "from rl.agents.dqn import DQNAgent\n",
    "from rl.policy import BoltzmannQPolicy\n",
    "from rl.memory import SequentialMemory\n",
    "\n",
    "\n",
    "ENV_NAME = 'SpaceInvaders-v0'\n",
    "\n",
    "\n",
    "# Get the environment and extract the number of actions.\n",
    "env = gym.make(ENV_NAME)\n",
    "np.random.seed(123)\n",
    "env.seed(123)\n",
    "nb_actions = env.action_space.n\n",
    "\n",
    "# Next, we build a very simple model regardless of the dueling architecture\n",
    "# if you enable dueling network in DQN , DQN will build a dueling network base on your model automatically\n",
    "# Also, you can build a dueling network by yourself and turn off the dueling network in DQN.\n",
    "model = Sequential()\n",
    "model.add(Flatten(input_shape=(1,) + env.observation_space.shape))\n",
    "model.add(Dense(16))\n",
    "model.add(Activation('relu'))\n",
    "model.add(Dense(16))\n",
    "model.add(Activation('relu'))\n",
    "model.add(Dense(16))\n",
    "model.add(Activation('relu'))\n",
    "model.add(Dense(nb_actions, activation='linear'))\n",
    "print(model.summary())\n",
    "train_reward=[]\n",
    "train_history=[]\n",
    "# Finally, we configure and compile our agent. You can use every built-in Keras optimizer and\n",
    "# even the metrics!\n",
    "memory = SequentialMemory(limit=50000, window_length=1)\n",
    "policy = BoltzmannQPolicy()\n",
    "# enable the dueling network\n",
    "# you can specify the dueling_type to one of {'avg','max','naive'}\n",
    "dqn = DQNAgent(model=model, nb_actions=nb_actions, memory=memory, nb_steps_warmup=10,\n",
    "               enable_dueling_network=True, dueling_type='avg', target_model_update=1e-2, policy=policy)\n",
    "dqn.compile(Adam(lr=1e-3), metrics=['mae'])\n",
    "\n",
    "dqn.load_weights('duel_dqn_SpaceInvaders-v0_weights.h5f')\n",
    "\n",
    "# Okay, now it's time to learn something! We visualize the training here for show, but this\n",
    "# slows down training quite a lot. You can always safely abort the training prematurely using\n",
    "# Ctrl + C.\n",
    "train_history=dqn.fit(env, nb_steps=50000, visualize=True, verbose=2)\n",
    "# After training is done, we save the final weights.\n",
    "dqn.save_weights('duel_dqn_{}_weights.h5f'.format(ENV_NAME), overwrite=True)\n",
    "train_reward=train_history.history['episode_reward']\n",
    "plt.plot(train_reward)\n",
    "plt.savefig('ddqn_cartpole')\n",
    "# Finally, evaluate our algorithm for 5 episodes.\n",
    "dqn.test(env, nb_episodes=5, visualize=True)\n",
    "\n"
   ]
  },
  {
   "cell_type": "code",
   "execution_count": null,
   "metadata": {},
   "outputs": [],
   "source": []
  }
 ],
 "metadata": {
  "kernelspec": {
   "display_name": "Python 3",
   "language": "python",
   "name": "python3"
  },
  "language_info": {
   "codemirror_mode": {
    "name": "ipython",
    "version": 3
   },
   "file_extension": ".py",
   "mimetype": "text/x-python",
   "name": "python",
   "nbconvert_exporter": "python",
   "pygments_lexer": "ipython3",
   "version": "3.7.1"
  }
 },
 "nbformat": 4,
 "nbformat_minor": 2
}
