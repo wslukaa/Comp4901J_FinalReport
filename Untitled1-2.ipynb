{
 "cells": [
  {
   "cell_type": "code",
   "execution_count": 2,
   "metadata": {
    "scrolled": false
   },
   "outputs": [
    {
     "name": "stdout",
     "output_type": "stream",
     "text": [
      "_________________________________________________________________\n",
      "Layer (type)                 Output Shape              Param #   \n",
      "=================================================================\n",
      "flatten_2 (Flatten)          (None, 128)               0         \n",
      "_________________________________________________________________\n",
      "dense_6 (Dense)              (None, 16)                2064      \n",
      "_________________________________________________________________\n",
      "activation_4 (Activation)    (None, 16)                0         \n",
      "_________________________________________________________________\n",
      "dense_7 (Dense)              (None, 16)                272       \n",
      "_________________________________________________________________\n",
      "activation_5 (Activation)    (None, 16)                0         \n",
      "_________________________________________________________________\n",
      "dense_8 (Dense)              (None, 16)                272       \n",
      "_________________________________________________________________\n",
      "activation_6 (Activation)    (None, 16)                0         \n",
      "_________________________________________________________________\n",
      "dense_9 (Dense)              (None, 6)                 102       \n",
      "=================================================================\n",
      "Total params: 2,710\n",
      "Trainable params: 2,710\n",
      "Non-trainable params: 0\n",
      "_________________________________________________________________\n",
      "None\n",
      "Training for 50000 steps ...\n"
     ]
    },
    {
     "name": "stderr",
     "output_type": "stream",
     "text": [
      "/anaconda3/lib/python3.7/site-packages/rl/memory.py:39: UserWarning: Not enough entries to sample without replacement. Consider increasing your warm-up phase to avoid oversampling!\n",
      "  warnings.warn('Not enough entries to sample without replacement. Consider increasing your warm-up phase to avoid oversampling!')\n"
     ]
    },
    {
     "name": "stdout",
     "output_type": "stream",
     "text": [
      "  1350/50000: episode: 1, duration: 15.925s, episode steps: 1350, steps per second: 85, episode reward: -19.000, mean reward: -0.014 [-1.000, 1.000], mean action: 2.572 [0.000, 5.000], mean observation: 76.946 [0.000, 255.000], loss: 0.006956, mean_absolute_error: 0.974943, mean_q: -1.152215\n",
      "  2393/50000: episode: 2, duration: 10.582s, episode steps: 1043, steps per second: 99, episode reward: -21.000, mean reward: -0.020 [-1.000, 0.000], mean action: 2.516 [0.000, 5.000], mean observation: 77.503 [0.000, 255.000], loss: 0.007828, mean_absolute_error: 0.956837, mean_q: -1.132250\n",
      "  3887/50000: episode: 3, duration: 14.796s, episode steps: 1494, steps per second: 101, episode reward: -20.000, mean reward: -0.013 [-1.000, 1.000], mean action: 2.511 [0.000, 5.000], mean observation: 77.177 [0.000, 255.000], loss: 0.008508, mean_absolute_error: 0.937911, mean_q: -1.108880\n",
      "  5317/50000: episode: 4, duration: 14.324s, episode steps: 1430, steps per second: 100, episode reward: -19.000, mean reward: -0.013 [-1.000, 1.000], mean action: 2.502 [0.000, 5.000], mean observation: 77.339 [0.000, 255.000], loss: 0.007768, mean_absolute_error: 0.924552, mean_q: -1.095450\n",
      "  6632/50000: episode: 5, duration: 13.012s, episode steps: 1315, steps per second: 101, episode reward: -20.000, mean reward: -0.015 [-1.000, 1.000], mean action: 2.512 [0.000, 5.000], mean observation: 77.362 [0.000, 255.000], loss: 0.008086, mean_absolute_error: 0.927076, mean_q: -1.096998\n",
      "  7862/50000: episode: 6, duration: 12.381s, episode steps: 1230, steps per second: 99, episode reward: -21.000, mean reward: -0.017 [-1.000, 0.000], mean action: 2.486 [0.000, 5.000], mean observation: 77.764 [0.000, 255.000], loss: 0.007814, mean_absolute_error: 0.924663, mean_q: -1.095397\n",
      "  8957/50000: episode: 7, duration: 10.856s, episode steps: 1095, steps per second: 101, episode reward: -21.000, mean reward: -0.019 [-1.000, 0.000], mean action: 2.525 [0.000, 5.000], mean observation: 77.292 [0.000, 255.000], loss: 0.007744, mean_absolute_error: 0.929703, mean_q: -1.101250\n",
      " 10185/50000: episode: 8, duration: 13.950s, episode steps: 1228, steps per second: 88, episode reward: -21.000, mean reward: -0.017 [-1.000, 0.000], mean action: 2.536 [0.000, 5.000], mean observation: 77.319 [0.000, 255.000], loss: 0.007808, mean_absolute_error: 0.938299, mean_q: -1.111696\n",
      " 11467/50000: episode: 9, duration: 14.740s, episode steps: 1282, steps per second: 87, episode reward: -21.000, mean reward: -0.016 [-1.000, 0.000], mean action: 2.533 [0.000, 5.000], mean observation: 77.310 [0.000, 255.000], loss: 0.008216, mean_absolute_error: 0.937286, mean_q: -1.109387\n",
      " 12563/50000: episode: 10, duration: 13.292s, episode steps: 1096, steps per second: 82, episode reward: -21.000, mean reward: -0.019 [-1.000, 0.000], mean action: 2.486 [0.000, 5.000], mean observation: 77.654 [0.000, 255.000], loss: 0.008488, mean_absolute_error: 0.948136, mean_q: -1.121703\n",
      " 13867/50000: episode: 11, duration: 23.589s, episode steps: 1304, steps per second: 55, episode reward: -19.000, mean reward: -0.015 [-1.000, 1.000], mean action: 2.489 [0.000, 5.000], mean observation: 76.570 [0.000, 255.000], loss: 0.008620, mean_absolute_error: 0.951172, mean_q: -1.126003\n",
      " 15036/50000: episode: 12, duration: 21.134s, episode steps: 1169, steps per second: 55, episode reward: -21.000, mean reward: -0.018 [-1.000, 0.000], mean action: 2.515 [0.000, 5.000], mean observation: 77.133 [0.000, 255.000], loss: 0.008864, mean_absolute_error: 0.958012, mean_q: -1.134122\n",
      " 16305/50000: episode: 13, duration: 22.908s, episode steps: 1269, steps per second: 55, episode reward: -19.000, mean reward: -0.015 [-1.000, 1.000], mean action: 2.494 [0.000, 5.000], mean observation: 77.478 [0.000, 255.000], loss: 0.007508, mean_absolute_error: 0.950440, mean_q: -1.125532\n",
      " 17415/50000: episode: 14, duration: 19.878s, episode steps: 1110, steps per second: 56, episode reward: -21.000, mean reward: -0.019 [-1.000, 0.000], mean action: 2.535 [0.000, 5.000], mean observation: 76.760 [0.000, 255.000], loss: 0.008098, mean_absolute_error: 0.946182, mean_q: -1.120765\n",
      " 18660/50000: episode: 15, duration: 22.428s, episode steps: 1245, steps per second: 56, episode reward: -19.000, mean reward: -0.015 [-1.000, 1.000], mean action: 2.445 [0.000, 5.000], mean observation: 77.519 [0.000, 255.000], loss: 0.008581, mean_absolute_error: 0.960672, mean_q: -1.137121\n",
      " 19720/50000: episode: 16, duration: 19.749s, episode steps: 1060, steps per second: 54, episode reward: -21.000, mean reward: -0.020 [-1.000, 0.000], mean action: 2.489 [0.000, 5.000], mean observation: 77.784 [0.000, 255.000], loss: 0.008954, mean_absolute_error: 0.966004, mean_q: -1.142166\n",
      " 21138/50000: episode: 17, duration: 28.064s, episode steps: 1418, steps per second: 51, episode reward: -20.000, mean reward: -0.014 [-1.000, 1.000], mean action: 2.515 [0.000, 5.000], mean observation: 77.551 [0.000, 255.000], loss: 0.008300, mean_absolute_error: 0.963249, mean_q: -1.141150\n",
      " 22284/50000: episode: 18, duration: 20.605s, episode steps: 1146, steps per second: 56, episode reward: -21.000, mean reward: -0.018 [-1.000, 0.000], mean action: 2.478 [0.000, 5.000], mean observation: 77.368 [0.000, 255.000], loss: 0.008113, mean_absolute_error: 0.961911, mean_q: -1.139442\n",
      " 23518/50000: episode: 19, duration: 21.053s, episode steps: 1234, steps per second: 59, episode reward: -20.000, mean reward: -0.016 [-1.000, 1.000], mean action: 2.537 [0.000, 5.000], mean observation: 77.441 [0.000, 255.000], loss: 0.009037, mean_absolute_error: 0.967203, mean_q: -1.145226\n",
      " 24660/50000: episode: 20, duration: 19.653s, episode steps: 1142, steps per second: 58, episode reward: -21.000, mean reward: -0.018 [-1.000, 0.000], mean action: 2.494 [0.000, 5.000], mean observation: 76.958 [0.000, 255.000], loss: 0.008754, mean_absolute_error: 0.979943, mean_q: -1.160675\n",
      " 25973/50000: episode: 21, duration: 22.681s, episode steps: 1313, steps per second: 58, episode reward: -20.000, mean reward: -0.015 [-1.000, 1.000], mean action: 2.463 [0.000, 5.000], mean observation: 77.145 [0.000, 255.000], loss: 0.008484, mean_absolute_error: 0.991000, mean_q: -1.173930\n",
      " 27195/50000: episode: 22, duration: 21.360s, episode steps: 1222, steps per second: 57, episode reward: -21.000, mean reward: -0.017 [-1.000, 0.000], mean action: 2.525 [0.000, 5.000], mean observation: 77.370 [0.000, 255.000], loss: 0.008937, mean_absolute_error: 1.003313, mean_q: -1.187742\n",
      " 28621/50000: episode: 23, duration: 24.479s, episode steps: 1426, steps per second: 58, episode reward: -20.000, mean reward: -0.014 [-1.000, 1.000], mean action: 2.451 [0.000, 5.000], mean observation: 77.261 [0.000, 255.000], loss: 0.008865, mean_absolute_error: 1.016966, mean_q: -1.204560\n",
      " 29851/50000: episode: 24, duration: 21.389s, episode steps: 1230, steps per second: 58, episode reward: -21.000, mean reward: -0.017 [-1.000, 0.000], mean action: 2.464 [0.000, 5.000], mean observation: 77.509 [0.000, 255.000], loss: 0.008184, mean_absolute_error: 1.013711, mean_q: -1.201213\n",
      " 31355/50000: episode: 25, duration: 26.189s, episode steps: 1504, steps per second: 57, episode reward: -18.000, mean reward: -0.012 [-1.000, 1.000], mean action: 2.553 [0.000, 5.000], mean observation: 77.299 [0.000, 255.000], loss: 0.008424, mean_absolute_error: 1.015804, mean_q: -1.204541\n",
      " 32584/50000: episode: 26, duration: 20.993s, episode steps: 1229, steps per second: 59, episode reward: -20.000, mean reward: -0.016 [-1.000, 1.000], mean action: 2.592 [0.000, 5.000], mean observation: 77.108 [0.000, 255.000], loss: 0.009079, mean_absolute_error: 1.027409, mean_q: -1.216682\n",
      " 33794/50000: episode: 27, duration: 20.787s, episode steps: 1210, steps per second: 58, episode reward: -21.000, mean reward: -0.017 [-1.000, 0.000], mean action: 2.491 [0.000, 5.000], mean observation: 77.263 [0.000, 255.000], loss: 0.007961, mean_absolute_error: 1.038783, mean_q: -1.232252\n",
      " 34957/50000: episode: 28, duration: 20.305s, episode steps: 1163, steps per second: 57, episode reward: -21.000, mean reward: -0.018 [-1.000, 0.000], mean action: 2.442 [0.000, 5.000], mean observation: 77.019 [0.000, 255.000], loss: 0.008513, mean_absolute_error: 1.034127, mean_q: -1.225543\n"
     ]
    },
    {
     "name": "stdout",
     "output_type": "stream",
     "text": [
      " 36187/50000: episode: 29, duration: 21.652s, episode steps: 1230, steps per second: 57, episode reward: -20.000, mean reward: -0.016 [-1.000, 1.000], mean action: 2.559 [0.000, 5.000], mean observation: 77.334 [0.000, 255.000], loss: 0.008883, mean_absolute_error: 1.033779, mean_q: -1.224898\n",
      " 37430/50000: episode: 30, duration: 22.240s, episode steps: 1243, steps per second: 56, episode reward: -20.000, mean reward: -0.016 [-1.000, 1.000], mean action: 2.515 [0.000, 5.000], mean observation: 76.961 [0.000, 255.000], loss: 0.008099, mean_absolute_error: 1.038553, mean_q: -1.231487\n",
      " 38794/50000: episode: 31, duration: 25.105s, episode steps: 1364, steps per second: 54, episode reward: -20.000, mean reward: -0.015 [-1.000, 1.000], mean action: 2.467 [0.000, 5.000], mean observation: 77.157 [0.000, 255.000], loss: 0.008121, mean_absolute_error: 1.030072, mean_q: -1.221556\n",
      " 40025/50000: episode: 32, duration: 22.380s, episode steps: 1231, steps per second: 55, episode reward: -19.000, mean reward: -0.015 [-1.000, 1.000], mean action: 2.439 [0.000, 5.000], mean observation: 77.979 [0.000, 255.000], loss: 0.008589, mean_absolute_error: 1.024078, mean_q: -1.213203\n",
      " 41292/50000: episode: 33, duration: 21.814s, episode steps: 1267, steps per second: 58, episode reward: -20.000, mean reward: -0.016 [-1.000, 1.000], mean action: 2.619 [0.000, 5.000], mean observation: 77.397 [0.000, 255.000], loss: 0.007829, mean_absolute_error: 1.016922, mean_q: -1.205544\n",
      " 42399/50000: episode: 34, duration: 19.120s, episode steps: 1107, steps per second: 58, episode reward: -21.000, mean reward: -0.019 [-1.000, 0.000], mean action: 2.655 [0.000, 5.000], mean observation: 77.750 [0.000, 255.000], loss: 0.008553, mean_absolute_error: 1.018558, mean_q: -1.207018\n",
      " 43555/50000: episode: 35, duration: 19.990s, episode steps: 1156, steps per second: 58, episode reward: -21.000, mean reward: -0.018 [-1.000, 0.000], mean action: 2.503 [0.000, 5.000], mean observation: 77.942 [0.000, 255.000], loss: 0.008861, mean_absolute_error: 1.026012, mean_q: -1.216362\n",
      " 44824/50000: episode: 36, duration: 21.975s, episode steps: 1269, steps per second: 58, episode reward: -20.000, mean reward: -0.016 [-1.000, 1.000], mean action: 2.596 [0.000, 5.000], mean observation: 77.666 [0.000, 255.000], loss: 0.008521, mean_absolute_error: 1.027349, mean_q: -1.217206\n",
      " 45992/50000: episode: 37, duration: 21.584s, episode steps: 1168, steps per second: 54, episode reward: -21.000, mean reward: -0.018 [-1.000, 0.000], mean action: 2.494 [0.000, 5.000], mean observation: 77.976 [0.000, 255.000], loss: 0.008387, mean_absolute_error: 1.022619, mean_q: -1.212228\n",
      " 47236/50000: episode: 38, duration: 24.303s, episode steps: 1244, steps per second: 51, episode reward: -21.000, mean reward: -0.017 [-1.000, 0.000], mean action: 2.487 [0.000, 5.000], mean observation: 77.316 [0.000, 255.000], loss: 0.008621, mean_absolute_error: 1.028573, mean_q: -1.219092\n",
      " 48661/50000: episode: 39, duration: 25.869s, episode steps: 1425, steps per second: 55, episode reward: -19.000, mean reward: -0.013 [-1.000, 1.000], mean action: 2.464 [0.000, 5.000], mean observation: 77.037 [0.000, 255.000], loss: 0.008573, mean_absolute_error: 1.039691, mean_q: -1.232091\n",
      "done, took 800.955 seconds\n",
      "Testing for 5 episodes ...\n",
      "Episode 1: reward: -21.000, steps: 1029\n",
      "Episode 2: reward: -21.000, steps: 1020\n",
      "Episode 3: reward: -21.000, steps: 1021\n",
      "Episode 4: reward: -21.000, steps: 1037\n",
      "Episode 5: reward: -21.000, steps: 1016\n"
     ]
    },
    {
     "data": {
      "text/plain": [
       "<keras.callbacks.History at 0x1056bd2e8>"
      ]
     },
     "execution_count": 2,
     "metadata": {},
     "output_type": "execute_result"
    },
    {
     "data": {
      "image/png": "[encoded data removed]",
      "text/plain": [
       "<Figure size 432x288 with 1 Axes>"
      ]
     },
     "metadata": {
      "needs_background": "light"
     },
     "output_type": "display_data"
    }
   ],
   "source": [
    "import numpy as np\n",
    "import gym\n",
    "import matplotlib.pyplot as plt\n",
    "\n",
    "from keras.models import Sequential\n",
    "from keras.layers import Dense, Activation, Flatten\n",
    "from keras.optimizers import Adam\n",
    "\n",
    "from rl.agents.dqn import DQNAgent\n",
    "from rl.policy import BoltzmannQPolicy\n",
    "from rl.memory import SequentialMemory\n",
    "\n",
    "\n",
    "ENV_NAME = 'Pong-ram-v0'\n",
    "\n",
    "\n",
    "# Get the environment and extract the number of actions.\n",
    "env = gym.make(ENV_NAME)\n",
    "np.random.seed(123)\n",
    "env.seed(123)\n",
    "nb_actions = env.action_space.n\n",
    "\n",
    "# Next, we build a very simple model regardless of the dueling architecture\n",
    "# if you enable dueling network in DQN , DQN will build a dueling network base on your model automatically\n",
    "# Also, you can build a dueling network by yourself and turn off the dueling network in DQN.\n",
    "model = Sequential()\n",
    "model.add(Flatten(input_shape=(1,) + env.observation_space.shape))\n",
    "model.add(Dense(16))\n",
    "model.add(Activation('relu'))\n",
    "model.add(Dense(16))\n",
    "model.add(Activation('relu'))\n",
    "model.add(Dense(16))\n",
    "model.add(Activation('relu'))\n",
    "model.add(Dense(nb_actions, activation='linear'))\n",
    "print(model.summary())\n",
    "train_reward=[]\n",
    "train_history=[]\n",
    "# Finally, we configure and compile our agent. You can use every built-in Keras optimizer and\n",
    "# even the metrics!\n",
    "memory = SequentialMemory(limit=50000, window_length=1)\n",
    "policy = BoltzmannQPolicy()\n",
    "# enable the dueling network\n",
    "# you can specify the dueling_type to one of {'avg','max','naive'}\n",
    "dqn = DQNAgent(model=model, nb_actions=nb_actions, memory=memory, nb_steps_warmup=10,\n",
    "               enable_dueling_network=True, dueling_type='avg', target_model_update=1e-2, policy=policy)\n",
    "dqn.compile(Adam(lr=1e-3), metrics=['mae'])\n",
    "\n",
    "dqn.load_weights('duel_dqn_Pong-ram-v0_weights.h5f')\n",
    "# Okay, now it's time to learn something! We visualize the training here for show, but this\n",
    "# slows down training quite a lot. You can always safely abort the training prematurely using\n",
    "# Ctrl + C.\n",
    "train_history=dqn.fit(env, nb_steps=50000, visualize=True, verbose=2)\n",
    "# After training is done, we save the final weights.\n",
    "dqn.save_weights('duel_dqn_{}_weights.h5f'.format(ENV_NAME), overwrite=True)\n",
    "train_reward=train_history.history['episode_reward']\n",
    "plt.plot(train_reward)\n",
    "plt.savefig('ddqn_cartpole')\n",
    "# Finally, evaluate our algorithm for 5 episodes.\n",
    "dqn.test(env, nb_episodes=5, visualize=True)\n",
    "\n",
    "\n"
   ]
  },
  {
   "cell_type": "code",
   "execution_count": null,
   "metadata": {},
   "outputs": [],
   "source": []
  }
 ],
 "metadata": {
  "kernelspec": {
   "display_name": "Python 3",
   "language": "python",
   "name": "python3"
  },
  "language_info": {
   "codemirror_mode": {
    "name": "ipython",
    "version": 3
   },
   "file_extension": ".py",
   "mimetype": "text/x-python",
   "name": "python",
   "nbconvert_exporter": "python",
   "pygments_lexer": "ipython3",
   "version": "3.7.1"
  }
 },
 "nbformat": 4,
 "nbformat_minor": 2
}
